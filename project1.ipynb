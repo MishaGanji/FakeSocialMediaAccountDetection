{
 "cells": [
  {
   "cell_type": "code",
   "execution_count": 1,
   "id": "c6873146-a4e8-48df-9caf-c4a8f3dd5439",
   "metadata": {},
   "outputs": [
    {
     "name": "stdout",
     "output_type": "stream",
     "text": [
      "Training Data Columns: Index(['profile pic', 'nums/length username', 'fullname words',\n",
      "       'nums/length fullname', 'name==username', 'description length',\n",
      "       'external URL', 'private', '#posts', '#followers', '#follows', 'fake'],\n",
      "      dtype='object')\n",
      "Testing Data Columns: Index(['profile pic', 'nums/length username', 'fullname words',\n",
      "       'nums/length fullname', 'name==username', 'description length',\n",
      "       'external URL', 'private', '#posts', '#followers', '#follows', 'fake'],\n",
      "      dtype='object')\n",
      "Accuracy: 0.9166666666666666\n",
      "Precision: 0.9166666666666666\n",
      "Recall: 0.9166666666666666\n",
      "F1 Score: 0.9166666666666666\n"
     ]
    },
    {
     "data": {
      "text/plain": [
       "['best_rf_model.pkl']"
      ]
     },
     "execution_count": 1,
     "metadata": {},
     "output_type": "execute_result"
    }
   ],
   "source": [
    "import pandas as pd\n",
    "from sklearn.ensemble import RandomForestClassifier\n",
    "from sklearn.metrics import accuracy_score, precision_score, recall_score, f1_score\n",
    "import joblib\n",
    "\n",
    "# Load training and testing datasets\n",
    "train_data = pd.read_csv('train(1).csv')\n",
    "test_data = pd.read_csv('test.csv')\n",
    "\n",
    "# Print the columns to verify\n",
    "print(\"Training Data Columns:\", train_data.columns)\n",
    "print(\"Testing Data Columns:\", test_data.columns)\n",
    "\n",
    "# Preprocess data function\n",
    "def preprocess_data(data):\n",
    "    # Feature engineering based on provided column names\n",
    "    data['username_length'] = data['nums/length username']\n",
    "    data['fullname_length'] = data['nums/length fullname']\n",
    "    data['name_equals_username'] = data['name==username']\n",
    "    data['description_length'] = data['description length']\n",
    "    data['external_url_present'] = data['external URL'].apply(lambda x: 1 if pd.notnull(x) else 0)\n",
    "    \n",
    "    # Select the relevant features\n",
    "    feature_columns = ['profile pic', 'username_length', 'fullname words', 'fullname_length', \n",
    "                       'name_equals_username', 'description_length', 'external_url_present', \n",
    "                       'private', '#posts', '#followers', '#follows']\n",
    "    return data[feature_columns]\n",
    "\n",
    "# Preprocess training and testing data\n",
    "X_train = preprocess_data(train_data)\n",
    "y_train = train_data['fake']\n",
    "X_test = preprocess_data(test_data)\n",
    "y_test = test_data['fake']\n",
    "\n",
    "# Model training\n",
    "rf_model = RandomForestClassifier(n_estimators=100, random_state=42)\n",
    "rf_model.fit(X_train, y_train)\n",
    "\n",
    "# Model evaluation\n",
    "y_pred = rf_model.predict(X_test)\n",
    "accuracy = accuracy_score(y_test, y_pred)\n",
    "precision = precision_score(y_test, y_pred)\n",
    "recall = recall_score(y_test, y_pred)\n",
    "f1 = f1_score(y_test, y_pred)\n",
    "\n",
    "print(f'Accuracy: {accuracy}')\n",
    "print(f'Precision: {precision}')\n",
    "print(f'Recall: {recall}')\n",
    "print(f'F1 Score: {f1}')\n",
    "\n",
    "# Save the trained model\n",
    "joblib.dump(rf_model, 'best_rf_model.pkl')\n"
   ]
  }
 ],
 "metadata": {
  "kernelspec": {
   "display_name": "Python 3 (ipykernel)",
   "language": "python",
   "name": "python3"
  },
  "language_info": {
   "codemirror_mode": {
    "name": "ipython",
    "version": 3
   },
   "file_extension": ".py",
   "mimetype": "text/x-python",
   "name": "python",
   "nbconvert_exporter": "python",
   "pygments_lexer": "ipython3",
   "version": "3.12.0"
  }
 },
 "nbformat": 4,
 "nbformat_minor": 5
}
